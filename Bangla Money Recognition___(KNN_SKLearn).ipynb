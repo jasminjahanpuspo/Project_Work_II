{
 "cells": [
  {
   "cell_type": "code",
   "execution_count": 1,
   "metadata": {},
   "outputs": [],
   "source": [
    "from pathlib import Path\n",
    "import numpy as np\n",
    "import matplotlib.pyplot as plt\n",
    "import matplotlib.image as mpimg\n",
    "from skimage import io, color"
   ]
  },
  {
   "cell_type": "code",
   "execution_count": 122,
   "metadata": {},
   "outputs": [],
   "source": [
    "folder=[]\n",
    "def img_read(number,loop):\n",
    "    for i in range(loop):\n",
    "        a=plt.imread(\"C:\\\\Users\\\\STACBD\\\\bangla-money\\\\Training\\\\\"+str(number)+\"\\\\\"+str(number)+\"_\"+str(i)+\".jpg\")\n",
    "        a=np.array(a)\n",
    "        folder.append(a)\n",
    "    ax=np.array(folder)\n",
    "    return a "
   ]
  },
  {
   "cell_type": "code",
   "execution_count": 137,
   "metadata": {},
   "outputs": [
    {
     "data": {
      "text/plain": [
       "(1664, 120, 250, 3)"
      ]
     },
     "execution_count": 137,
     "metadata": {},
     "output_type": "execute_result"
    }
   ],
   "source": [
    "folder=np.array(folder)\n",
    "folder.shape"
   ]
  },
  {
   "cell_type": "code",
   "execution_count": 123,
   "metadata": {},
   "outputs": [],
   "source": [
    "y=[]\n",
    "def label(number,loop):  \n",
    "    for i in range(loop):\n",
    "        if number==1:\n",
    "            y.append(1)\n",
    "        elif number==2:\n",
    "            y.append(2)\n",
    "        elif number==5:\n",
    "            y.append(5)\n",
    "        elif number==10:\n",
    "            y.append(10)\n",
    "        elif number==20:\n",
    "            y.append(20)\n",
    "        elif number==50:\n",
    "            y.append(50)\n",
    "        elif number==100:\n",
    "            y.append(100)\n",
    "        elif number==500:\n",
    "            y.append(500)\n",
    "        elif number==1000:\n",
    "            y.append(1000)\n",
    "    return y "
   ]
  },
  {
   "cell_type": "code",
   "execution_count": 124,
   "metadata": {},
   "outputs": [],
   "source": [
    "one_taka=img_read(1,100)\n",
    "one=label(1,100)"
   ]
  },
  {
   "cell_type": "code",
   "execution_count": 125,
   "metadata": {},
   "outputs": [
    {
     "data": {
      "text/plain": [
       "(120, 250, 3)"
      ]
     },
     "execution_count": 125,
     "metadata": {},
     "output_type": "execute_result"
    }
   ],
   "source": [
    "two_taka=img_read(2,212)\n",
    "two=label(2,212)\n",
    "two_taka.shape"
   ]
  },
  {
   "cell_type": "code",
   "execution_count": 126,
   "metadata": {},
   "outputs": [],
   "source": [
    "five_taka=img_read(5,212)\n",
    "five=label(5,212)"
   ]
  },
  {
   "cell_type": "code",
   "execution_count": 127,
   "metadata": {},
   "outputs": [],
   "source": [
    "ten_taka=img_read(10,212)\n",
    "ten=label(10,212)"
   ]
  },
  {
   "cell_type": "code",
   "execution_count": 128,
   "metadata": {},
   "outputs": [],
   "source": [
    "twenty_taka=img_read(20,212)\n",
    "twenty=label(20,212)"
   ]
  },
  {
   "cell_type": "code",
   "execution_count": 129,
   "metadata": {},
   "outputs": [],
   "source": [
    "fifty_taka=img_read(50,212)\n",
    "fifty=label(50,212)"
   ]
  },
  {
   "cell_type": "code",
   "execution_count": 130,
   "metadata": {},
   "outputs": [],
   "source": [
    "hundred_taka=img_read(100,203)\n",
    "hundred=label(100,203)"
   ]
  },
  {
   "cell_type": "code",
   "execution_count": 131,
   "metadata": {},
   "outputs": [],
   "source": [
    "five_hundred_taka=img_read(500,135)\n",
    "five_hundred=label(500,135)"
   ]
  },
  {
   "cell_type": "code",
   "execution_count": 132,
   "metadata": {},
   "outputs": [],
   "source": [
    "one_thousand_taka=img_read(1000,166)\n",
    "one_thousand=label(1000,166)"
   ]
  },
  {
   "cell_type": "code",
   "execution_count": 133,
   "metadata": {},
   "outputs": [
    {
     "name": "stdout",
     "output_type": "stream",
     "text": [
      "[   1    1    1 ... 1000 1000 1000]\n"
     ]
    },
    {
     "data": {
      "text/plain": [
       "(1664,)"
      ]
     },
     "execution_count": 133,
     "metadata": {},
     "output_type": "execute_result"
    }
   ],
   "source": [
    "y=np.array(y)\n",
    "print(y)\n",
    "y.shape"
   ]
  },
  {
   "cell_type": "code",
   "execution_count": null,
   "metadata": {},
   "outputs": [],
   "source": [
    "from sklearn.neighbors import KNeighborsClassifier\n",
    "from sklearn.ensemble import RandomForestClassifier\n",
    "from sklearn.model_selection import train_test_split\n",
    "from sklearn.model_selection import KFold\n",
    "from sklearn.model_selection import cross_val_score"
   ]
  },
  {
   "cell_type": "code",
   "execution_count": null,
   "metadata": {},
   "outputs": [],
   "source": [
    "from sklearn.metrics import confusion_matrix \n",
    "from sklearn.metrics import accuracy_score \n",
    "from sklearn.metrics import classification_report "
   ]
  },
  {
   "cell_type": "code",
   "execution_count": null,
   "metadata": {},
   "outputs": [],
   "source": [
    "from builtins import range\n",
    "from builtins import object"
   ]
  },
  {
   "cell_type": "code",
   "execution_count": 138,
   "metadata": {},
   "outputs": [],
   "source": [
    "X=np.array(folder)"
   ]
  },
  {
   "cell_type": "code",
   "execution_count": 139,
   "metadata": {},
   "outputs": [],
   "source": [
    "X=color.rgb2gray(folder)"
   ]
  },
  {
   "cell_type": "code",
   "execution_count": 140,
   "metadata": {},
   "outputs": [
    {
     "data": {
      "text/plain": [
       "(1664, 120, 250)"
      ]
     },
     "execution_count": 140,
     "metadata": {},
     "output_type": "execute_result"
    }
   ],
   "source": [
    "X.shape"
   ]
  },
  {
   "cell_type": "code",
   "execution_count": 148,
   "metadata": {},
   "outputs": [],
   "source": [
    "X_train, X_test, y_train, y_test = train_test_split(X, y, random_state=42, test_size=0.1)"
   ]
  },
  {
   "cell_type": "code",
   "execution_count": 149,
   "metadata": {},
   "outputs": [
    {
     "name": "stdout",
     "output_type": "stream",
     "text": [
      "(1497,)\n"
     ]
    }
   ],
   "source": [
    "print((y_train.shape))"
   ]
  },
  {
   "cell_type": "code",
   "execution_count": 150,
   "metadata": {},
   "outputs": [],
   "source": [
    "X_val, X_test, y_val, y_test = train_test_split(X_test, y_test, random_state=42, test_size=0.5)"
   ]
  },
  {
   "cell_type": "code",
   "execution_count": 152,
   "metadata": {},
   "outputs": [],
   "source": [
    "num_training = X_train.shape[0]\n",
    "mask = list(range(num_training))\n",
    "X_train = X_train[mask]\n",
    "y_train = y_train[mask]\n",
    "\n",
    "num_test = X_test.shape[0]\n",
    "mask = list(range(num_test))\n",
    "X_test = X_test[mask]\n",
    "y_test = y_test[mask]\n",
    "\n",
    "num_val = X_val.shape[0]\n",
    "mask = list(range(num_val))\n",
    "X_val = X_val[mask]\n",
    "y_val = y_val[mask]\n",
    "\n",
    "# Reshape the image data into rows\n",
    "X_train = np.reshape(X_train, (X_train.shape[0], -1))\n",
    "X_test = np.reshape(X_test, (X_test.shape[0], -1))\n",
    "X_val = np.reshape(X_val, (X_val.shape[0], -1))"
   ]
  },
  {
   "cell_type": "code",
   "execution_count": 153,
   "metadata": {},
   "outputs": [
    {
     "name": "stdout",
     "output_type": "stream",
     "text": [
      "X_train: (1497, 30000)\n",
      "X_test: (84, 30000)\n",
      "X_val: (83, 30000)\n",
      "y_train: (1497,)\n",
      "y_test: (84,)\n",
      "y_val: (83,)\n"
     ]
    }
   ],
   "source": [
    "print(\"X_train: \"+str(X_train.shape))\n",
    "print(\"X_test: \"+str(X_test.shape))\n",
    "print(\"X_val: \"+str(X_val.shape))\n",
    "print(\"y_train: \"+str(y_train.shape))\n",
    "print(\"y_test: \"+str(y_test.shape))\n",
    "print(\"y_val: \"+str(y_val.shape))"
   ]
  },
  {
   "cell_type": "code",
   "execution_count": 154,
   "metadata": {},
   "outputs": [
    {
     "data": {
      "text/plain": [
       "55.95"
      ]
     },
     "execution_count": 154,
     "metadata": {},
     "output_type": "execute_result"
    }
   ],
   "source": [
    "#Knn\n",
    "\n",
    "knn=KNeighborsClassifier(n_neighbors=21)\n",
    "knn.fit(X_train,y_train)\n",
    "y_pred=knn.predict(X_test)\n",
    "acc_knn=round(accuracy_score(y_test,y_pred)*100,2)\n",
    "acc_knn"
   ]
  },
  {
   "cell_type": "code",
   "execution_count": 155,
   "metadata": {},
   "outputs": [
    {
     "name": "stdout",
     "output_type": "stream",
     "text": [
      "[   1   50  100    5   10   50   10    2   50  100    2    2  100    5\n",
      " 1000    5  100 1000    5    2    5    2   20   50   10  500    2    5\n",
      "   20    5    5    2    2   10    1    2   50   10   20   50   10    2\n",
      "   10    1    2   20    2    1   50   20    2 1000    2    5   10    5\n",
      "    1   50   50    5    2    5   20 1000    2   50 1000    5    2    5\n",
      "  500 1000  100    1   20   20   20    2 1000   50    5    1    2    2]\n",
      "0.5952380952380952\n"
     ]
    }
   ],
   "source": [
    "knn = KNeighborsClassifier(n_neighbors=7) \n",
    "knn.fit(X_train, y_train) \n",
    "# Predict on dataset which model has not seen before \n",
    "print(knn.predict(X_test)) \n",
    "# Calculate the accuracy of the model \n",
    "print(knn.score(X_test, y_test)) "
   ]
  }
 ],
 "metadata": {
  "kernelspec": {
   "display_name": "Python 3",
   "language": "python",
   "name": "python3"
  },
  "language_info": {
   "codemirror_mode": {
    "name": "ipython",
    "version": 3
   },
   "file_extension": ".py",
   "mimetype": "text/x-python",
   "name": "python",
   "nbconvert_exporter": "python",
   "pygments_lexer": "ipython3",
   "version": "3.7.4"
  }
 },
 "nbformat": 4,
 "nbformat_minor": 2
}
