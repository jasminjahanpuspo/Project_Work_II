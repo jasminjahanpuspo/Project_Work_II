{
 "cells": [
  {
   "cell_type": "code",
   "execution_count": 8,
   "metadata": {},
   "outputs": [],
   "source": [
    "import numpy as np\n",
    "import matplotlib.pyplot as plt"
   ]
  },
  {
   "cell_type": "markdown",
   "metadata": {},
   "source": [
    "pip install nb_black\n",
    "%load_ext nb_black"
   ]
  },
  {
   "cell_type": "code",
   "execution_count": 62,
   "metadata": {},
   "outputs": [
    {
     "data": {
      "application/javascript": [
       "\n",
       "            setTimeout(function() {\n",
       "                var nbb_cell_id = 62;\n",
       "                var nbb_unformatted_code = \"class Conv_op:\\n    # A Convolution layer using 3x3 filters.\\n\\n    def __init__(self, num_filters, filter_size):\\n        self.num_filters = num_filters\\n        self.filter_size = filter_size\\n        self.conv_filter = np.random.randn(num_filters, 3, 3) / 9\\n\\n    def image_region(self, image):\\n        h, w = image.shape\\n\\n        for i in range(h - self.filter_size + 1):\\n            for j in range(w - self.filter_size + 1):\\n                im_patch = image[i : (i + self.filter_size), j : (j + self.filter_size)]\\n                yield im_patch, i, j\\n\\n    def forward(self, image):\\n        h, w = image.shape\\n        output = np.zeros(\\n            (h - self.filter_size + 1, w - self.filter_size + 1, self.num_filters)\\n        )\\n\\n        for im_patch, i, j in self.image_region(image):\\n            output[i, j] = np.sum(im_patch * self.num_filters, axis=(0,1))\\n\\n        return output\";\n",
       "                var nbb_formatted_code = \"class Conv_op:\\n    # A Convolution layer using 3x3 filters.\\n\\n    def __init__(self, num_filters, filter_size):\\n        self.num_filters = num_filters\\n        self.filter_size = filter_size\\n        self.conv_filter = np.random.randn(num_filters, 3, 3) / 9\\n\\n    def image_region(self, image):\\n        h, w = image.shape\\n\\n        for i in range(h - self.filter_size + 1):\\n            for j in range(w - self.filter_size + 1):\\n                im_patch = image[i : (i + self.filter_size), j : (j + self.filter_size)]\\n                yield im_patch, i, j\\n\\n    def forward(self, image):\\n        h, w = image.shape\\n        output = np.zeros(\\n            (h - self.filter_size + 1, w - self.filter_size + 1, self.num_filters)\\n        )\\n\\n        for im_patch, i, j in self.image_region(image):\\n            output[i, j] = np.sum(im_patch * self.num_filters, axis=(0, 1))\\n\\n        return output\";\n",
       "                var nbb_cells = Jupyter.notebook.get_cells();\n",
       "                for (var i = 0; i < nbb_cells.length; ++i) {\n",
       "                    if (nbb_cells[i].input_prompt_number == nbb_cell_id) {\n",
       "                        if (nbb_cells[i].get_text() == nbb_unformatted_code) {\n",
       "                             nbb_cells[i].set_text(nbb_formatted_code);\n",
       "                        }\n",
       "                        break;\n",
       "                    }\n",
       "                }\n",
       "            }, 500);\n",
       "            "
      ],
      "text/plain": [
       "<IPython.core.display.Javascript object>"
      ]
     },
     "metadata": {},
     "output_type": "display_data"
    }
   ],
   "source": [
    "class Conv_op:\n",
    "\n",
    "    def __init__(self, num_filters, filter_size):\n",
    "        self.num_filters = num_filters\n",
    "        self.filter_size = filter_size\n",
    "        self.conv_filter = np.random.randn(num_filters, 3, 3) / 9\n",
    "\n",
    "    def image_region(self, image):\n",
    "        h, w = image.shape\n",
    "\n",
    "        for i in range(h - self.filter_size + 1):\n",
    "            for j in range(w - self.filter_size + 1):\n",
    "                im_patch = image[i : (i + self.filter_size), j : (j + self.filter_size)]\n",
    "                yield im_patch, i, j\n",
    "\n",
    "    def forward(self, image):\n",
    "        h, w = image.shape\n",
    "        output = np.zeros(\n",
    "            (h - self.filter_size + 1, w - self.filter_size + 1, self.num_filters)\n",
    "        )\n",
    "\n",
    "        for im_patch, i, j in self.image_region(image):\n",
    "            output[i, j] = np.sum(im_patch * self.num_filters, axis=(0, 1))\n",
    "\n",
    "        return output"
   ]
  },
  {
   "cell_type": "code",
   "execution_count": 66,
   "metadata": {},
   "outputs": [
    {
     "data": {
      "application/javascript": [
       "\n",
       "            setTimeout(function() {\n",
       "                var nbb_cell_id = 66;\n",
       "                var nbb_unformatted_code = \"class Max_pool:\\n    def __init__(self, filter_size):\\n        self.filter_size = filter_size\\n\\n    def image_region(self, image):\\n        new_height = image.shape[0] // self.filter_size\\n        new_width = image.shape[1] // self.filter_size\\n        self.image = image\\n\\n        for i in range(new_height):\\n            for j in range(new_width):\\n                image_patch = image[\\n                    (i * self.filter_size) : (i * self.filter_size + self.filter_size),\\n                    (j * self.filter_size) : (j * self.filter_size + self.filter_size),\\n                ]\\n                yield image_patch, i, j\\n\\n    def forward(self, image):\\n        h, w, num_filter = image.shape\\n        output = np.zeros((h // self.filter_size, w // self.filter_size, num_filter))\\n\\n        for image_patch, i, j in self.image_region(image):\\n            output[i, j] = np.amax(image_patch, axis=(0, 1))\\n\\n        return output\";\n",
       "                var nbb_formatted_code = \"class Max_pool:\\n    def __init__(self, filter_size):\\n        self.filter_size = filter_size\\n\\n    def image_region(self, image):\\n        new_height = image.shape[0] // self.filter_size\\n        new_width = image.shape[1] // self.filter_size\\n        self.image = image\\n\\n        for i in range(new_height):\\n            for j in range(new_width):\\n                image_patch = image[\\n                    (i * self.filter_size) : (i * self.filter_size + self.filter_size),\\n                    (j * self.filter_size) : (j * self.filter_size + self.filter_size),\\n                ]\\n                yield image_patch, i, j\\n\\n    def forward(self, image):\\n        h, w, num_filter = image.shape\\n        output = np.zeros((h // self.filter_size, w // self.filter_size, num_filter))\\n\\n        for image_patch, i, j in self.image_region(image):\\n            output[i, j] = np.amax(image_patch, axis=(0, 1))\\n\\n        return output\";\n",
       "                var nbb_cells = Jupyter.notebook.get_cells();\n",
       "                for (var i = 0; i < nbb_cells.length; ++i) {\n",
       "                    if (nbb_cells[i].input_prompt_number == nbb_cell_id) {\n",
       "                        if (nbb_cells[i].get_text() == nbb_unformatted_code) {\n",
       "                             nbb_cells[i].set_text(nbb_formatted_code);\n",
       "                        }\n",
       "                        break;\n",
       "                    }\n",
       "                }\n",
       "            }, 500);\n",
       "            "
      ],
      "text/plain": [
       "<IPython.core.display.Javascript object>"
      ]
     },
     "metadata": {},
     "output_type": "display_data"
    }
   ],
   "source": [
    "class Max_pool:\n",
    "    def __init__(self, filter_size):\n",
    "        self.filter_size = filter_size\n",
    "\n",
    "    def image_region(self, image):\n",
    "        new_height = image.shape[0] // self.filter_size\n",
    "        new_width = image.shape[1] // self.filter_size\n",
    "        self.image = image\n",
    "\n",
    "        for i in range(new_height):\n",
    "            for j in range(new_width):\n",
    "                image_patch = image[\n",
    "                    (i * self.filter_size) : (i * self.filter_size + self.filter_size),\n",
    "                    (j * self.filter_size) : (j * self.filter_size + self.filter_size),\n",
    "                ]\n",
    "                yield image_patch, i, j\n",
    "\n",
    "    def forward(self, image):\n",
    "        h, w, num_filter = image.shape\n",
    "        output = np.zeros((h // self.filter_size, w // self.filter_size, num_filter))\n",
    "\n",
    "        for image_patch, i, j in self.image_region(image):\n",
    "            output[i, j] = np.amax(image_patch, axis=(0, 1))\n",
    "\n",
    "        return output"
   ]
  },
  {
   "cell_type": "code",
   "execution_count": 132,
   "metadata": {},
   "outputs": [
    {
     "data": {
      "application/javascript": [
       "\n",
       "            setTimeout(function() {\n",
       "                var nbb_cell_id = 132;\n",
       "                var nbb_unformatted_code = \"class Softmax:\\n    # A standard fully-connected layer with softmax activation.\\n\\n    def __init__(self, input_len, nodes):\\n        # We divide by input_len to reduce the variance of our initial values\\n        self.weights = np.random.randn(input_len, nodes) / input_len\\n        self.biases = np.zeros(nodes)\\n\\n    def forward(self, input):\\n        \\\"\\\"\\\"\\n    Performs a forward pass of the softmax layer using the given input.\\n    Returns a 1d numpy array containing the respective probability values.\\n    - input can be any array with any dimensions.\\n    \\\"\\\"\\\"\\n        input = input.flatten()\\n\\n        input_len, nodes = self.weights.shape\\n\\n        totals = np.dot(input, self.weights) + self.biases\\n        exp = np.exp(totals)\\n        return exp / np.sum(exp, axis=0)\";\n",
       "                var nbb_formatted_code = \"class Softmax:\\n    # A standard fully-connected layer with softmax activation.\\n\\n    def __init__(self, input_len, nodes):\\n        # We divide by input_len to reduce the variance of our initial values\\n        self.weights = np.random.randn(input_len, nodes) / input_len\\n        self.biases = np.zeros(nodes)\\n\\n    def forward(self, input):\\n        \\\"\\\"\\\"\\n    Performs a forward pass of the softmax layer using the given input.\\n    Returns a 1d numpy array containing the respective probability values.\\n    - input can be any array with any dimensions.\\n    \\\"\\\"\\\"\\n        input = input.flatten()\\n\\n        input_len, nodes = self.weights.shape\\n\\n        totals = np.dot(input, self.weights) + self.biases\\n        exp = np.exp(totals)\\n        return exp / np.sum(exp, axis=0)\";\n",
       "                var nbb_cells = Jupyter.notebook.get_cells();\n",
       "                for (var i = 0; i < nbb_cells.length; ++i) {\n",
       "                    if (nbb_cells[i].input_prompt_number == nbb_cell_id) {\n",
       "                        if (nbb_cells[i].get_text() == nbb_unformatted_code) {\n",
       "                             nbb_cells[i].set_text(nbb_formatted_code);\n",
       "                        }\n",
       "                        break;\n",
       "                    }\n",
       "                }\n",
       "            }, 500);\n",
       "            "
      ],
      "text/plain": [
       "<IPython.core.display.Javascript object>"
      ]
     },
     "metadata": {},
     "output_type": "display_data"
    }
   ],
   "source": [
    "class Softmax:\n",
    "\n",
    "    def __init__(self, input_len, nodes):\n",
    "        self.weights = np.random.randn(input_len, nodes) / input_len\n",
    "        self.biases = np.zeros(nodes)\n",
    "\n",
    "    def forward(self, input):\n",
    " \n",
    "        input = input.flatten()\n",
    "\n",
    "        input_len, nodes = self.weights.shape\n",
    "\n",
    "        totals = np.dot(input, self.weights) + self.biases\n",
    "        exp = np.exp(totals)\n",
    "        return exp / np.sum(exp, axis=0)"
   ]
  },
  {
   "cell_type": "code",
   "execution_count": 11,
   "metadata": {},
   "outputs": [],
   "source": [
    "image_path=r'C:\\Users\\STACBD\\bangla-money\\Training\\1\\1_0.jpg'"
   ]
  },
  {
   "cell_type": "code",
   "execution_count": 61,
   "metadata": {},
   "outputs": [
    {
     "data": {
      "text/plain": [
       "(120, 250, 3)"
      ]
     },
     "execution_count": 61,
     "metadata": {},
     "output_type": "execute_result"
    },
    {
     "data": {
      "application/javascript": [
       "\n",
       "            setTimeout(function() {\n",
       "                var nbb_cell_id = 61;\n",
       "                var nbb_unformatted_code = \"a = plt.imread(image_path)\\na = np.array(a)\\na.shape\";\n",
       "                var nbb_formatted_code = \"a = plt.imread(image_path)\\na = np.array(a)\\na.shape\";\n",
       "                var nbb_cells = Jupyter.notebook.get_cells();\n",
       "                for (var i = 0; i < nbb_cells.length; ++i) {\n",
       "                    if (nbb_cells[i].input_prompt_number == nbb_cell_id) {\n",
       "                        if (nbb_cells[i].get_text() == nbb_unformatted_code) {\n",
       "                             nbb_cells[i].set_text(nbb_formatted_code);\n",
       "                        }\n",
       "                        break;\n",
       "                    }\n",
       "                }\n",
       "            }, 500);\n",
       "            "
      ],
      "text/plain": [
       "<IPython.core.display.Javascript object>"
      ]
     },
     "metadata": {},
     "output_type": "display_data"
    }
   ],
   "source": [
    "a = plt.imread(image_path)\n",
    "a = np.array(a)\n",
    "a.shape"
   ]
  },
  {
   "cell_type": "code",
   "execution_count": 50,
   "metadata": {},
   "outputs": [
    {
     "data": {
      "application/javascript": [
       "\n",
       "            setTimeout(function() {\n",
       "                var nbb_cell_id = 50;\n",
       "                var nbb_unformatted_code = \"def rgb2gray(rgb):\\n    return np.dot(rgb[..., :3], [0.299, 0.587, 0.144])\";\n",
       "                var nbb_formatted_code = \"def rgb2gray(rgb):\\n    return np.dot(rgb[..., :3], [0.299, 0.587, 0.144])\";\n",
       "                var nbb_cells = Jupyter.notebook.get_cells();\n",
       "                for (var i = 0; i < nbb_cells.length; ++i) {\n",
       "                    if (nbb_cells[i].input_prompt_number == nbb_cell_id) {\n",
       "                        if (nbb_cells[i].get_text() == nbb_unformatted_code) {\n",
       "                             nbb_cells[i].set_text(nbb_formatted_code);\n",
       "                        }\n",
       "                        break;\n",
       "                    }\n",
       "                }\n",
       "            }, 500);\n",
       "            "
      ],
      "text/plain": [
       "<IPython.core.display.Javascript object>"
      ]
     },
     "metadata": {},
     "output_type": "display_data"
    }
   ],
   "source": [
    "def rgb2gray(rgb):\n",
    "    return np.dot(rgb[..., :3], [0.299, 0.587, 0.144])"
   ]
  },
  {
   "cell_type": "code",
   "execution_count": 52,
   "metadata": {},
   "outputs": [
    {
     "data": {
      "text/plain": [
       "(120, 250)"
      ]
     },
     "execution_count": 52,
     "metadata": {},
     "output_type": "execute_result"
    },
    {
     "data": {
      "application/javascript": [
       "\n",
       "            setTimeout(function() {\n",
       "                var nbb_cell_id = 52;\n",
       "                var nbb_unformatted_code = \"X = rgb2gray(a)\\nX.shape\";\n",
       "                var nbb_formatted_code = \"X = rgb2gray(a)\\nX.shape\";\n",
       "                var nbb_cells = Jupyter.notebook.get_cells();\n",
       "                for (var i = 0; i < nbb_cells.length; ++i) {\n",
       "                    if (nbb_cells[i].input_prompt_number == nbb_cell_id) {\n",
       "                        if (nbb_cells[i].get_text() == nbb_unformatted_code) {\n",
       "                             nbb_cells[i].set_text(nbb_formatted_code);\n",
       "                        }\n",
       "                        break;\n",
       "                    }\n",
       "                }\n",
       "            }, 500);\n",
       "            "
      ],
      "text/plain": [
       "<IPython.core.display.Javascript object>"
      ]
     },
     "metadata": {},
     "output_type": "display_data"
    }
   ],
   "source": [
    "X = rgb2gray(a)\n",
    "X.shape"
   ]
  },
  {
   "cell_type": "code",
   "execution_count": 63,
   "metadata": {},
   "outputs": [
    {
     "data": {
      "text/plain": [
       "(114, 244, 18)"
      ]
     },
     "execution_count": 63,
     "metadata": {},
     "output_type": "execute_result"
    },
    {
     "data": {
      "application/javascript": [
       "\n",
       "            setTimeout(function() {\n",
       "                var nbb_cell_id = 63;\n",
       "                var nbb_unformatted_code = \"conn = Conv_op(18, 7)\\nout = conn.forward(X)\\nout.shape\";\n",
       "                var nbb_formatted_code = \"conn = Conv_op(18, 7)\\nout = conn.forward(X)\\nout.shape\";\n",
       "                var nbb_cells = Jupyter.notebook.get_cells();\n",
       "                for (var i = 0; i < nbb_cells.length; ++i) {\n",
       "                    if (nbb_cells[i].input_prompt_number == nbb_cell_id) {\n",
       "                        if (nbb_cells[i].get_text() == nbb_unformatted_code) {\n",
       "                             nbb_cells[i].set_text(nbb_formatted_code);\n",
       "                        }\n",
       "                        break;\n",
       "                    }\n",
       "                }\n",
       "            }, 500);\n",
       "            "
      ],
      "text/plain": [
       "<IPython.core.display.Javascript object>"
      ]
     },
     "metadata": {},
     "output_type": "display_data"
    }
   ],
   "source": [
    "conn = Conv_op(18, 7)\n",
    "out = conn.forward(X)\n",
    "out.shape"
   ]
  },
  {
   "cell_type": "code",
   "execution_count": 67,
   "metadata": {},
   "outputs": [
    {
     "data": {
      "text/plain": [
       "(28, 61, 18)"
      ]
     },
     "execution_count": 67,
     "metadata": {},
     "output_type": "execute_result"
    },
    {
     "data": {
      "application/javascript": [
       "\n",
       "            setTimeout(function() {\n",
       "                var nbb_cell_id = 67;\n",
       "                var nbb_unformatted_code = \"conn2 = Max_pool(4)\\nout2 = conn2.forward(out)\\nout2.shape\";\n",
       "                var nbb_formatted_code = \"conn2 = Max_pool(4)\\nout2 = conn2.forward(out)\\nout2.shape\";\n",
       "                var nbb_cells = Jupyter.notebook.get_cells();\n",
       "                for (var i = 0; i < nbb_cells.length; ++i) {\n",
       "                    if (nbb_cells[i].input_prompt_number == nbb_cell_id) {\n",
       "                        if (nbb_cells[i].get_text() == nbb_unformatted_code) {\n",
       "                             nbb_cells[i].set_text(nbb_formatted_code);\n",
       "                        }\n",
       "                        break;\n",
       "                    }\n",
       "                }\n",
       "            }, 500);\n",
       "            "
      ],
      "text/plain": [
       "<IPython.core.display.Javascript object>"
      ]
     },
     "metadata": {},
     "output_type": "display_data"
    }
   ],
   "source": [
    "conn2 = Max_pool(4)\n",
    "out2 = conn2.forward(out)\n",
    "out2.shape"
   ]
  },
  {
   "cell_type": "code",
   "execution_count": 133,
   "metadata": {},
   "outputs": [
    {
     "name": "stdout",
     "output_type": "stream",
     "text": [
      "[ 0.  0. nan  0. nan  0.  0.  0.  0.]\n"
     ]
    },
    {
     "name": "stderr",
     "output_type": "stream",
     "text": [
      "C:\\Users\\STACBD\\Anaconda3\\lib\\site-packages\\ipykernel_launcher.py:21: RuntimeWarning: invalid value encountered in true_divide\n"
     ]
    },
    {
     "data": {
      "application/javascript": [
       "\n",
       "            setTimeout(function() {\n",
       "                var nbb_cell_id = 133;\n",
       "                var nbb_unformatted_code = \"conn3 = Softmax(28 * 61 * 18, 9)\\nout3 = conn3.forward(out2)\\nprint(out3)\";\n",
       "                var nbb_formatted_code = \"conn3 = Softmax(28 * 61 * 18, 9)\\nout3 = conn3.forward(out2)\\nprint(out3)\";\n",
       "                var nbb_cells = Jupyter.notebook.get_cells();\n",
       "                for (var i = 0; i < nbb_cells.length; ++i) {\n",
       "                    if (nbb_cells[i].input_prompt_number == nbb_cell_id) {\n",
       "                        if (nbb_cells[i].get_text() == nbb_unformatted_code) {\n",
       "                             nbb_cells[i].set_text(nbb_formatted_code);\n",
       "                        }\n",
       "                        break;\n",
       "                    }\n",
       "                }\n",
       "            }, 500);\n",
       "            "
      ],
      "text/plain": [
       "<IPython.core.display.Javascript object>"
      ]
     },
     "metadata": {},
     "output_type": "display_data"
    }
   ],
   "source": [
    "conn3 = Softmax(28 * 61 * 18, 9)\n",
    "out3 = conn3.forward(out2)\n",
    "print(out3)"
   ]
  },
  {
   "cell_type": "code",
   "execution_count": 88,
   "metadata": {},
   "outputs": [
    {
     "data": {
      "application/javascript": [
       "\n",
       "            setTimeout(function() {\n",
       "                var nbb_cell_id = 88;\n",
       "                var nbb_unformatted_code = \"folder=[]\\ndef img_read(number,loop):\\n    for i in range(loop):\\n        a=plt.imread(\\\"C:\\\\\\\\Users\\\\\\\\STACBD\\\\\\\\bangla-money\\\\\\\\Training\\\\\\\\\\\"+str(number)+\\\"\\\\\\\\\\\"+str(number)+\\\"_\\\"+str(i)+\\\".jpg\\\")\\n        a=np.array(a)\\n        folder.append(a)\\n    ax=np.array(folder)\\n    return a \";\n",
       "                var nbb_formatted_code = \"folder = []\\n\\n\\ndef img_read(number, loop):\\n    for i in range(loop):\\n        a = plt.imread(\\n            \\\"C:\\\\\\\\Users\\\\\\\\STACBD\\\\\\\\bangla-money\\\\\\\\Training\\\\\\\\\\\"\\n            + str(number)\\n            + \\\"\\\\\\\\\\\"\\n            + str(number)\\n            + \\\"_\\\"\\n            + str(i)\\n            + \\\".jpg\\\"\\n        )\\n        a = np.array(a)\\n        folder.append(a)\\n    ax = np.array(folder)\\n    return a\";\n",
       "                var nbb_cells = Jupyter.notebook.get_cells();\n",
       "                for (var i = 0; i < nbb_cells.length; ++i) {\n",
       "                    if (nbb_cells[i].input_prompt_number == nbb_cell_id) {\n",
       "                        if (nbb_cells[i].get_text() == nbb_unformatted_code) {\n",
       "                             nbb_cells[i].set_text(nbb_formatted_code);\n",
       "                        }\n",
       "                        break;\n",
       "                    }\n",
       "                }\n",
       "            }, 500);\n",
       "            "
      ],
      "text/plain": [
       "<IPython.core.display.Javascript object>"
      ]
     },
     "metadata": {},
     "output_type": "display_data"
    }
   ],
   "source": [
    "folder = []\n",
    "\n",
    "\n",
    "def img_read(number, loop):\n",
    "    for i in range(loop):\n",
    "        a = plt.imread(\n",
    "            \"C:\\\\Users\\\\STACBD\\\\bangla-money\\\\Training\\\\\"\n",
    "            + str(number)\n",
    "            + \"\\\\\"\n",
    "            + str(number)\n",
    "            + \"_\"\n",
    "            + str(i)\n",
    "            + \".jpg\"\n",
    "        )\n",
    "        a = np.array(a)\n",
    "        folder.append(a)\n",
    "    ax = np.array(folder)\n",
    "    return a"
   ]
  },
  {
   "cell_type": "code",
   "execution_count": 89,
   "metadata": {},
   "outputs": [
    {
     "data": {
      "application/javascript": [
       "\n",
       "            setTimeout(function() {\n",
       "                var nbb_cell_id = 89;\n",
       "                var nbb_unformatted_code = \"y=[]\\ndef label(number,loop):  \\n    for i in range(loop):\\n        if number==1:\\n            y.append(0)\\n        elif number==2:\\n            y.append(1)\\n        elif number==5:\\n            y.append(2)\\n        elif number==10:\\n            y.append(3)\\n        elif number==20:\\n            y.append(4)\\n        elif number==50:\\n            y.append(5)\\n        elif number==100:\\n            y.append(6)\\n        elif number==500:\\n            y.append(7)\\n        elif number==1000:\\n            y.append(8)\\n    return y \";\n",
       "                var nbb_formatted_code = \"y = []\\n\\n\\ndef label(number, loop):\\n    for i in range(loop):\\n        if number == 1:\\n            y.append(0)\\n        elif number == 2:\\n            y.append(1)\\n        elif number == 5:\\n            y.append(2)\\n        elif number == 10:\\n            y.append(3)\\n        elif number == 20:\\n            y.append(4)\\n        elif number == 50:\\n            y.append(5)\\n        elif number == 100:\\n            y.append(6)\\n        elif number == 500:\\n            y.append(7)\\n        elif number == 1000:\\n            y.append(8)\\n    return y\";\n",
       "                var nbb_cells = Jupyter.notebook.get_cells();\n",
       "                for (var i = 0; i < nbb_cells.length; ++i) {\n",
       "                    if (nbb_cells[i].input_prompt_number == nbb_cell_id) {\n",
       "                        if (nbb_cells[i].get_text() == nbb_unformatted_code) {\n",
       "                             nbb_cells[i].set_text(nbb_formatted_code);\n",
       "                        }\n",
       "                        break;\n",
       "                    }\n",
       "                }\n",
       "            }, 500);\n",
       "            "
      ],
      "text/plain": [
       "<IPython.core.display.Javascript object>"
      ]
     },
     "metadata": {},
     "output_type": "display_data"
    }
   ],
   "source": [
    "y = []\n",
    "\n",
    "\n",
    "def label(number, loop):\n",
    "    for i in range(loop):\n",
    "        if number == 1:\n",
    "            y.append(0)\n",
    "        elif number == 2:\n",
    "            y.append(1)\n",
    "        elif number == 5:\n",
    "            y.append(2)\n",
    "        elif number == 10:\n",
    "            y.append(3)\n",
    "        elif number == 20:\n",
    "            y.append(4)\n",
    "        elif number == 50:\n",
    "            y.append(5)\n",
    "        elif number == 100:\n",
    "            y.append(6)\n",
    "        elif number == 500:\n",
    "            y.append(7)\n",
    "        elif number == 1000:\n",
    "            y.append(8)\n",
    "    return y"
   ]
  },
  {
   "cell_type": "code",
   "execution_count": 90,
   "metadata": {},
   "outputs": [
    {
     "data": {
      "application/javascript": [
       "\n",
       "            setTimeout(function() {\n",
       "                var nbb_cell_id = 90;\n",
       "                var nbb_unformatted_code = \"one_taka=img_read(1,100)\\none=label(1,100)\\ntwo_taka=img_read(2,212)\\ntwo=label(2,212)\\nfive_taka=img_read(5,212)\\nfive=label(5,212)\\nten_taka=img_read(10,212)\\nten=label(10,212)\\nfifty_taka=img_read(50,212)\\nfifty=label(50,212)\\nhundred_taka=img_read(100,203)\\nhundred=label(100,203)\\nfive_hundred_taka=img_read(500,135)\\nfive_hundred=label(500,135)\\none_thousand_taka=img_read(1000,166)\\none_thousand=label(1000,166)\";\n",
       "                var nbb_formatted_code = \"one_taka = img_read(1, 100)\\none = label(1, 100)\\ntwo_taka = img_read(2, 212)\\ntwo = label(2, 212)\\nfive_taka = img_read(5, 212)\\nfive = label(5, 212)\\nten_taka = img_read(10, 212)\\nten = label(10, 212)\\nfifty_taka = img_read(50, 212)\\nfifty = label(50, 212)\\nhundred_taka = img_read(100, 203)\\nhundred = label(100, 203)\\nfive_hundred_taka = img_read(500, 135)\\nfive_hundred = label(500, 135)\\none_thousand_taka = img_read(1000, 166)\\none_thousand = label(1000, 166)\";\n",
       "                var nbb_cells = Jupyter.notebook.get_cells();\n",
       "                for (var i = 0; i < nbb_cells.length; ++i) {\n",
       "                    if (nbb_cells[i].input_prompt_number == nbb_cell_id) {\n",
       "                        if (nbb_cells[i].get_text() == nbb_unformatted_code) {\n",
       "                             nbb_cells[i].set_text(nbb_formatted_code);\n",
       "                        }\n",
       "                        break;\n",
       "                    }\n",
       "                }\n",
       "            }, 500);\n",
       "            "
      ],
      "text/plain": [
       "<IPython.core.display.Javascript object>"
      ]
     },
     "metadata": {},
     "output_type": "display_data"
    }
   ],
   "source": [
    "one_taka = img_read(1, 100)\n",
    "one = label(1, 100)\n",
    "two_taka = img_read(2, 212)\n",
    "two = label(2, 212)\n",
    "five_taka = img_read(5, 212)\n",
    "five = label(5, 212)\n",
    "ten_taka = img_read(10, 212)\n",
    "ten = label(10, 212)\n",
    "fifty_taka = img_read(50, 212)\n",
    "fifty = label(50, 212)\n",
    "hundred_taka = img_read(100, 203)\n",
    "hundred = label(100, 203)\n",
    "five_hundred_taka = img_read(500, 135)\n",
    "five_hundred = label(500, 135)\n",
    "one_thousand_taka = img_read(1000, 166)\n",
    "one_thousand = label(1000, 166)"
   ]
  },
  {
   "cell_type": "code",
   "execution_count": 91,
   "metadata": {},
   "outputs": [
    {
     "name": "stdout",
     "output_type": "stream",
     "text": [
      "[0 0 0 ... 8 8 8]\n"
     ]
    },
    {
     "data": {
      "text/plain": [
       "(1452,)"
      ]
     },
     "execution_count": 91,
     "metadata": {},
     "output_type": "execute_result"
    },
    {
     "data": {
      "application/javascript": [
       "\n",
       "            setTimeout(function() {\n",
       "                var nbb_cell_id = 91;\n",
       "                var nbb_unformatted_code = \"y=np.array(y)\\nprint(y)\\ny.shape\";\n",
       "                var nbb_formatted_code = \"y = np.array(y)\\nprint(y)\\ny.shape\";\n",
       "                var nbb_cells = Jupyter.notebook.get_cells();\n",
       "                for (var i = 0; i < nbb_cells.length; ++i) {\n",
       "                    if (nbb_cells[i].input_prompt_number == nbb_cell_id) {\n",
       "                        if (nbb_cells[i].get_text() == nbb_unformatted_code) {\n",
       "                             nbb_cells[i].set_text(nbb_formatted_code);\n",
       "                        }\n",
       "                        break;\n",
       "                    }\n",
       "                }\n",
       "            }, 500);\n",
       "            "
      ],
      "text/plain": [
       "<IPython.core.display.Javascript object>"
      ]
     },
     "metadata": {},
     "output_type": "display_data"
    }
   ],
   "source": [
    "y = np.array(y)\n",
    "print(y)\n",
    "y.shape"
   ]
  },
  {
   "cell_type": "code",
   "execution_count": 92,
   "metadata": {},
   "outputs": [
    {
     "data": {
      "application/javascript": [
       "\n",
       "            setTimeout(function() {\n",
       "                var nbb_cell_id = 92;\n",
       "                var nbb_unformatted_code = \"folder=np.array(folder)\\nfolder.shape\\nX=np.array(folder)\";\n",
       "                var nbb_formatted_code = \"folder = np.array(folder)\\nfolder.shape\\nX = np.array(folder)\";\n",
       "                var nbb_cells = Jupyter.notebook.get_cells();\n",
       "                for (var i = 0; i < nbb_cells.length; ++i) {\n",
       "                    if (nbb_cells[i].input_prompt_number == nbb_cell_id) {\n",
       "                        if (nbb_cells[i].get_text() == nbb_unformatted_code) {\n",
       "                             nbb_cells[i].set_text(nbb_formatted_code);\n",
       "                        }\n",
       "                        break;\n",
       "                    }\n",
       "                }\n",
       "            }, 500);\n",
       "            "
      ],
      "text/plain": [
       "<IPython.core.display.Javascript object>"
      ]
     },
     "metadata": {},
     "output_type": "display_data"
    }
   ],
   "source": [
    "folder = np.array(folder)\n",
    "folder.shape\n",
    "X = np.array(folder)"
   ]
  },
  {
   "cell_type": "code",
   "execution_count": 93,
   "metadata": {},
   "outputs": [
    {
     "data": {
      "application/javascript": [
       "\n",
       "            setTimeout(function() {\n",
       "                var nbb_cell_id = 93;\n",
       "                var nbb_unformatted_code = \"def rgb2gray(rgb):\\n    return np.dot(rgb[...,:3], [0.299, 0.587, 0.144])\";\n",
       "                var nbb_formatted_code = \"def rgb2gray(rgb):\\n    return np.dot(rgb[..., :3], [0.299, 0.587, 0.144])\";\n",
       "                var nbb_cells = Jupyter.notebook.get_cells();\n",
       "                for (var i = 0; i < nbb_cells.length; ++i) {\n",
       "                    if (nbb_cells[i].input_prompt_number == nbb_cell_id) {\n",
       "                        if (nbb_cells[i].get_text() == nbb_unformatted_code) {\n",
       "                             nbb_cells[i].set_text(nbb_formatted_code);\n",
       "                        }\n",
       "                        break;\n",
       "                    }\n",
       "                }\n",
       "            }, 500);\n",
       "            "
      ],
      "text/plain": [
       "<IPython.core.display.Javascript object>"
      ]
     },
     "metadata": {},
     "output_type": "display_data"
    }
   ],
   "source": [
    "def rgb2gray(rgb):\n",
    "    return np.dot(rgb[..., :3], [0.299, 0.587, 0.144])"
   ]
  },
  {
   "cell_type": "code",
   "execution_count": 94,
   "metadata": {},
   "outputs": [
    {
     "data": {
      "application/javascript": [
       "\n",
       "            setTimeout(function() {\n",
       "                var nbb_cell_id = 94;\n",
       "                var nbb_unformatted_code = \"X=rgb2gray(folder)\";\n",
       "                var nbb_formatted_code = \"X = rgb2gray(folder)\";\n",
       "                var nbb_cells = Jupyter.notebook.get_cells();\n",
       "                for (var i = 0; i < nbb_cells.length; ++i) {\n",
       "                    if (nbb_cells[i].input_prompt_number == nbb_cell_id) {\n",
       "                        if (nbb_cells[i].get_text() == nbb_unformatted_code) {\n",
       "                             nbb_cells[i].set_text(nbb_formatted_code);\n",
       "                        }\n",
       "                        break;\n",
       "                    }\n",
       "                }\n",
       "            }, 500);\n",
       "            "
      ],
      "text/plain": [
       "<IPython.core.display.Javascript object>"
      ]
     },
     "metadata": {},
     "output_type": "display_data"
    }
   ],
   "source": [
    "X = rgb2gray(folder)"
   ]
  },
  {
   "cell_type": "code",
   "execution_count": 95,
   "metadata": {},
   "outputs": [
    {
     "data": {
      "application/javascript": [
       "\n",
       "            setTimeout(function() {\n",
       "                var nbb_cell_id = 95;\n",
       "                var nbb_unformatted_code = \"from sklearn.model_selection import train_test_split\";\n",
       "                var nbb_formatted_code = \"from sklearn.model_selection import train_test_split\";\n",
       "                var nbb_cells = Jupyter.notebook.get_cells();\n",
       "                for (var i = 0; i < nbb_cells.length; ++i) {\n",
       "                    if (nbb_cells[i].input_prompt_number == nbb_cell_id) {\n",
       "                        if (nbb_cells[i].get_text() == nbb_unformatted_code) {\n",
       "                             nbb_cells[i].set_text(nbb_formatted_code);\n",
       "                        }\n",
       "                        break;\n",
       "                    }\n",
       "                }\n",
       "            }, 500);\n",
       "            "
      ],
      "text/plain": [
       "<IPython.core.display.Javascript object>"
      ]
     },
     "metadata": {},
     "output_type": "display_data"
    }
   ],
   "source": [
    "from sklearn.model_selection import train_test_split"
   ]
  },
  {
   "cell_type": "code",
   "execution_count": 96,
   "metadata": {},
   "outputs": [
    {
     "data": {
      "application/javascript": [
       "\n",
       "            setTimeout(function() {\n",
       "                var nbb_cell_id = 96;\n",
       "                var nbb_unformatted_code = \"X_train, X_test, y_train, y_test = train_test_split(X, y, random_state=42, test_size=0.2)\";\n",
       "                var nbb_formatted_code = \"X_train, X_test, y_train, y_test = train_test_split(\\n    X, y, random_state=42, test_size=0.2\\n)\";\n",
       "                var nbb_cells = Jupyter.notebook.get_cells();\n",
       "                for (var i = 0; i < nbb_cells.length; ++i) {\n",
       "                    if (nbb_cells[i].input_prompt_number == nbb_cell_id) {\n",
       "                        if (nbb_cells[i].get_text() == nbb_unformatted_code) {\n",
       "                             nbb_cells[i].set_text(nbb_formatted_code);\n",
       "                        }\n",
       "                        break;\n",
       "                    }\n",
       "                }\n",
       "            }, 500);\n",
       "            "
      ],
      "text/plain": [
       "<IPython.core.display.Javascript object>"
      ]
     },
     "metadata": {},
     "output_type": "display_data"
    }
   ],
   "source": [
    "X_train, X_test, y_train, y_test = train_test_split(\n",
    "    X, y, random_state=42, test_size=0.2\n",
    ")"
   ]
  },
  {
   "cell_type": "code",
   "execution_count": 97,
   "metadata": {},
   "outputs": [
    {
     "data": {
      "text/plain": [
       "(1161, 120, 250)"
      ]
     },
     "execution_count": 97,
     "metadata": {},
     "output_type": "execute_result"
    },
    {
     "data": {
      "application/javascript": [
       "\n",
       "            setTimeout(function() {\n",
       "                var nbb_cell_id = 97;\n",
       "                var nbb_unformatted_code = \"X_train.shape\";\n",
       "                var nbb_formatted_code = \"X_train.shape\";\n",
       "                var nbb_cells = Jupyter.notebook.get_cells();\n",
       "                for (var i = 0; i < nbb_cells.length; ++i) {\n",
       "                    if (nbb_cells[i].input_prompt_number == nbb_cell_id) {\n",
       "                        if (nbb_cells[i].get_text() == nbb_unformatted_code) {\n",
       "                             nbb_cells[i].set_text(nbb_formatted_code);\n",
       "                        }\n",
       "                        break;\n",
       "                    }\n",
       "                }\n",
       "            }, 500);\n",
       "            "
      ],
      "text/plain": [
       "<IPython.core.display.Javascript object>"
      ]
     },
     "metadata": {},
     "output_type": "display_data"
    }
   ],
   "source": [
    "X_train.shape"
   ]
  },
  {
   "cell_type": "code",
   "execution_count": 134,
   "metadata": {},
   "outputs": [
    {
     "data": {
      "application/javascript": [
       "\n",
       "            setTimeout(function() {\n",
       "                var nbb_cell_id = 134;\n",
       "                var nbb_unformatted_code = \"conv = Conv_op(8, 3)  #  (118, 248, 8)\\npool = Max_pool(2)  #  (59, 124, 8)\\nsoftmax = Softmax(59 * 124 * 8, 10)\";\n",
       "                var nbb_formatted_code = \"conv = Conv_op(8, 3)  #  (118, 248, 8)\\npool = Max_pool(2)  #  (59, 124, 8)\\nsoftmax = Softmax(59 * 124 * 8, 10)\";\n",
       "                var nbb_cells = Jupyter.notebook.get_cells();\n",
       "                for (var i = 0; i < nbb_cells.length; ++i) {\n",
       "                    if (nbb_cells[i].input_prompt_number == nbb_cell_id) {\n",
       "                        if (nbb_cells[i].get_text() == nbb_unformatted_code) {\n",
       "                             nbb_cells[i].set_text(nbb_formatted_code);\n",
       "                        }\n",
       "                        break;\n",
       "                    }\n",
       "                }\n",
       "            }, 500);\n",
       "            "
      ],
      "text/plain": [
       "<IPython.core.display.Javascript object>"
      ]
     },
     "metadata": {},
     "output_type": "display_data"
    }
   ],
   "source": [
    "conv = Conv_op(8, 3)  #  (118, 248, 8)\n",
    "pool = Max_pool(2)  #  (59, 124, 8)\n",
    "softmax = Softmax(59 * 124 * 8, 10)"
   ]
  },
  {
   "cell_type": "code",
   "execution_count": 126,
   "metadata": {},
   "outputs": [
    {
     "data": {
      "application/javascript": [
       "\n",
       "            setTimeout(function() {\n",
       "                var nbb_cell_id = 126;\n",
       "                var nbb_unformatted_code = \"def forward(image, label):\\n  '''\\n  Completes a forward pass of the CNN and calculates the accuracy and\\n  cross-entropy loss.\\n  - image is a 2d numpy array\\n  - label is a digit\\n  '''\\n  # We transform the image from [0, 255] to [-0.5, 0.5] to make it easier\\n  # to work with. This is standard practice.\\n  out = conv.forward((image / 255) - 0.5)\\n  out = pool.forward(out)\\n  out = softmax.forward(out)\\n  loss = -np.log(out[label])\\n  acc = 1 if np.argmax(out) == label else 0\\n    \\n  return out, loss, acc\";\n",
       "                var nbb_formatted_code = \"def forward(image, label):\\n    \\\"\\\"\\\"\\n  Completes a forward pass of the CNN and calculates the accuracy and\\n  cross-entropy loss.\\n  - image is a 2d numpy array\\n  - label is a digit\\n  \\\"\\\"\\\"\\n    # We transform the image from [0, 255] to [-0.5, 0.5] to make it easier\\n    # to work with. This is standard practice.\\n    out = conv.forward((image / 255) - 0.5)\\n    out = pool.forward(out)\\n    out = softmax.forward(out)\\n    loss = -np.log(out[label])\\n    acc = 1 if np.argmax(out) == label else 0\\n\\n    return out, loss, acc\";\n",
       "                var nbb_cells = Jupyter.notebook.get_cells();\n",
       "                for (var i = 0; i < nbb_cells.length; ++i) {\n",
       "                    if (nbb_cells[i].input_prompt_number == nbb_cell_id) {\n",
       "                        if (nbb_cells[i].get_text() == nbb_unformatted_code) {\n",
       "                             nbb_cells[i].set_text(nbb_formatted_code);\n",
       "                        }\n",
       "                        break;\n",
       "                    }\n",
       "                }\n",
       "            }, 500);\n",
       "            "
      ],
      "text/plain": [
       "<IPython.core.display.Javascript object>"
      ]
     },
     "metadata": {},
     "output_type": "display_data"
    }
   ],
   "source": [
    "def forward(image, label):\n",
    "  out = conv.forward((image / 255) - 0.5)\n",
    "  out = pool.forward(out)\n",
    "  out = softmax.forward(out)\n",
    "  loss = -np.log(out[label])\n",
    "  acc = 1 if np.argmax(out) == label else 0\n",
    "    \n",
    "  return out, loss, acc\n"
   ]
  },
  {
   "cell_type": "code",
   "execution_count": 136,
   "metadata": {},
   "outputs": [
    {
     "name": "stdout",
     "output_type": "stream",
     "text": [
      "[Step 100] : Loss 2.31 && Accuracy: 7%\n",
      "[Step 200] : Loss 2.30 && Accuracy: 4%\n",
      "[Step 300] : Loss 2.30 && Accuracy: 6%\n",
      "[Step 400] : Loss 2.30 && Accuracy: 9%\n",
      "[Step 500] : Loss 2.30 && Accuracy: 10%\n",
      "[Step 600] : Loss 2.30 && Accuracy: 11%\n",
      "[Step 700] : Loss 2.30 && Accuracy: 6%\n",
      "[Step 800] : Loss 2.30 && Accuracy: 4%\n",
      "[Step 900] : Loss 2.30 && Accuracy: 12%\n",
      "[Step 1000] : Loss 2.29 && Accuracy: 11%\n",
      "[Step 1100] : Loss 2.30 && Accuracy: 5%\n"
     ]
    },
    {
     "data": {
      "application/javascript": [
       "\n",
       "            setTimeout(function() {\n",
       "                var nbb_cell_id = 136;\n",
       "                var nbb_unformatted_code = \"loss = 0\\nnum_correct = 0\\nfor i, (im, label) in enumerate(zip(X_train, y_train)):\\n    _, l, acc = forward(im, label)\\n    loss += l\\n    num_correct += acc\\n\\n    # Print starts every 100 steps.\\n    if i % 100 == 99:\\n        print(\\n            \\\"[Step %d] : Loss %.2f && Accuracy: %d%%\\\"\\n            % (i + 1, loss / 100, num_correct)\\n        )\\n        loss = 0\\n        num_correct = 0\";\n",
       "                var nbb_formatted_code = \"loss = 0\\nnum_correct = 0\\nfor i, (im, label) in enumerate(zip(X_train, y_train)):\\n    _, l, acc = forward(im, label)\\n    loss += l\\n    num_correct += acc\\n\\n    # Print starts every 100 steps.\\n    if i % 100 == 99:\\n        print(\\n            \\\"[Step %d] : Loss %.2f && Accuracy: %d%%\\\" % (i + 1, loss / 100, num_correct)\\n        )\\n        loss = 0\\n        num_correct = 0\";\n",
       "                var nbb_cells = Jupyter.notebook.get_cells();\n",
       "                for (var i = 0; i < nbb_cells.length; ++i) {\n",
       "                    if (nbb_cells[i].input_prompt_number == nbb_cell_id) {\n",
       "                        if (nbb_cells[i].get_text() == nbb_unformatted_code) {\n",
       "                             nbb_cells[i].set_text(nbb_formatted_code);\n",
       "                        }\n",
       "                        break;\n",
       "                    }\n",
       "                }\n",
       "            }, 500);\n",
       "            "
      ],
      "text/plain": [
       "<IPython.core.display.Javascript object>"
      ]
     },
     "metadata": {},
     "output_type": "display_data"
    }
   ],
   "source": [
    "loss = 0\n",
    "num_correct = 0\n",
    "for i, (im, label) in enumerate(zip(X_train, y_train)):\n",
    "    _, l, acc = forward(im, label)\n",
    "    loss += l\n",
    "    num_correct += acc\n",
    "\n",
    "    # Print starts every 100 steps.\n",
    "    if i % 100 == 99:\n",
    "        print(\n",
    "            \"[Step %d] : Loss %.2f && Accuracy: %d%%\" % (i + 1, loss / 100, num_correct)\n",
    "        )\n",
    "        loss = 0\n",
    "        num_correct = 0"
   ]
  },
  {
   "cell_type": "code",
   "execution_count": 135,
   "metadata": {},
   "outputs": [
    {
     "name": "stdout",
     "output_type": "stream",
     "text": [
      "[Step 100] : Loss 230.86 | Accuracy: 5%\n",
      "[Step 200] : Loss 229.69 | Accuracy: 8%\n"
     ]
    },
    {
     "data": {
      "application/javascript": [
       "\n",
       "            setTimeout(function() {\n",
       "                var nbb_cell_id = 135;\n",
       "                var nbb_unformatted_code = \"loss = 0\\nnum_correct = 0\\nfor i, (im, label) in enumerate(zip(X_test, y_test)):\\n    ##print(label[:5])\\n    _, l, acc = forward(im, label)\\n    loss += l\\n    num_correct += acc\\n\\n    if i % 100 == 99:\\n        print(\\n            \\\"[Step %d] : Loss %.2f | Accuracy: %d%%\\\"\\n            % (i + 1, loss , num_correct)\\n        )\\n        loss = 0\\n        num_correct = 0\";\n",
       "                var nbb_formatted_code = \"loss = 0\\nnum_correct = 0\\nfor i, (im, label) in enumerate(zip(X_test, y_test)):\\n    ##print(label[:5])\\n    _, l, acc = forward(im, label)\\n    loss += l\\n    num_correct += acc\\n\\n    if i % 100 == 99:\\n        print(\\\"[Step %d] : Loss %.2f | Accuracy: %d%%\\\" % (i + 1, loss, num_correct))\\n        loss = 0\\n        num_correct = 0\";\n",
       "                var nbb_cells = Jupyter.notebook.get_cells();\n",
       "                for (var i = 0; i < nbb_cells.length; ++i) {\n",
       "                    if (nbb_cells[i].input_prompt_number == nbb_cell_id) {\n",
       "                        if (nbb_cells[i].get_text() == nbb_unformatted_code) {\n",
       "                             nbb_cells[i].set_text(nbb_formatted_code);\n",
       "                        }\n",
       "                        break;\n",
       "                    }\n",
       "                }\n",
       "            }, 500);\n",
       "            "
      ],
      "text/plain": [
       "<IPython.core.display.Javascript object>"
      ]
     },
     "metadata": {},
     "output_type": "display_data"
    }
   ],
   "source": [
    "loss = 0\n",
    "num_correct = 0\n",
    "for i, (im, label) in enumerate(zip(X_test, y_test)):\n",
    "    ##print(label[:5])\n",
    "    _, l, acc = forward(im, label)\n",
    "    loss += l\n",
    "    num_correct += acc\n",
    "\n",
    "    if i % 100 == 99:\n",
    "        print(\"[Step %d] : Loss %.2f | Accuracy: %d%%\" % (i + 1, loss, num_correct))\n",
    "        loss = 0\n",
    "        num_correct = 0"
   ]
  },
  {
   "cell_type": "code",
   "execution_count": null,
   "metadata": {},
   "outputs": [],
   "source": []
  }
 ],
 "metadata": {
  "kernelspec": {
   "display_name": "Python 3",
   "language": "python",
   "name": "python3"
  },
  "language_info": {
   "codemirror_mode": {
    "name": "ipython",
    "version": 3
   },
   "file_extension": ".py",
   "mimetype": "text/x-python",
   "name": "python",
   "nbconvert_exporter": "python",
   "pygments_lexer": "ipython3",
   "version": "3.7.4"
  }
 },
 "nbformat": 4,
 "nbformat_minor": 2
}
