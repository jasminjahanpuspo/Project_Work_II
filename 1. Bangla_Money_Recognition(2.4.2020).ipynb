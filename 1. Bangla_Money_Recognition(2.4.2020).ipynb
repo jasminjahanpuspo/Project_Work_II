{
 "cells": [
  {
   "cell_type": "code",
   "execution_count": null,
   "metadata": {},
   "outputs": [],
   "source": [
    "from pathlib import Path\n",
    "import cv2\n",
    "import numpy as np"
   ]
  },
  {
   "cell_type": "raw",
   "metadata": {},
   "source": [
    "## read all images from folder using open cv and \n",
    "## convert it to numpy array"
   ]
  },
  {
   "cell_type": "code",
   "execution_count": null,
   "metadata": {},
   "outputs": [],
   "source": [
    "folder=[]\n",
    "##path = r'C:\\Users\\akia\\bangla-money\\Training\\1\\1_0.jpg'   ##for a single image\n",
    "def img_read(number,loop):\n",
    "    for i in range(loop):\n",
    "        a=cv2.imread(\"C:\\\\Users\\\\akia\\\\bangla-money\\\\Training\\\\\"+str(number)+\"\\\\\"+str(number)+\"_\"+str(i)+\".jpg\")\n",
    "        ##a=cv2.imread('C:\\Users\\akia\\bangla-money\\Training\\'+str(number)+'\\'+str(number)+'_'+str(i)+'.jpg')\n",
    "        ##a=cv2.imread(path)\n",
    "        a=np.array(a)\n",
    "        folder.append(a)\n",
    "    ax=np.array(folder)\n",
    "    return ax"
   ]
  },
  {
   "cell_type": "raw",
   "metadata": {},
   "source": [
    "## two parameter (folder name , no. of takas)\n",
    "## call a function that can read images "
   ]
  },
  {
   "cell_type": "code",
   "execution_count": null,
   "metadata": {},
   "outputs": [],
   "source": [
    "one_taka=img_read(1,100)"
   ]
  },
  {
   "cell_type": "code",
   "execution_count": null,
   "metadata": {},
   "outputs": [],
   "source": [
    "two_taka=img_read(2,212)"
   ]
  },
  {
   "cell_type": "code",
   "execution_count": null,
   "metadata": {},
   "outputs": [],
   "source": [
    "five_taka=img_read(5,212)"
   ]
  },
  {
   "cell_type": "code",
   "execution_count": null,
   "metadata": {},
   "outputs": [],
   "source": [
    "ten_taka=img_read(10,212)"
   ]
  },
  {
   "cell_type": "code",
   "execution_count": null,
   "metadata": {},
   "outputs": [],
   "source": [
    "twenty_taka=img_read(20,212)"
   ]
  },
  {
   "cell_type": "code",
   "execution_count": null,
   "metadata": {},
   "outputs": [],
   "source": [
    "fifty_taka=img_read(50,212)"
   ]
  },
  {
   "cell_type": "code",
   "execution_count": null,
   "metadata": {},
   "outputs": [],
   "source": [
    "hundred_taka=img_read(100,203)"
   ]
  },
  {
   "cell_type": "code",
   "execution_count": null,
   "metadata": {},
   "outputs": [],
   "source": [
    "five_hundred_taka=img_read(500,135)"
   ]
  },
  {
   "cell_type": "code",
   "execution_count": null,
   "metadata": {},
   "outputs": [],
   "source": [
    "one_thousand_taka=img_read(1000,166)"
   ]
  },
  {
   "cell_type": "code",
   "execution_count": null,
   "metadata": {},
   "outputs": [],
   "source": [
    "x=[]\n",
    "x.append(one_taka)\n",
    "x.append(two_taka)\n",
    "x.append(five_taka)\n",
    "x.append(ten_taka)\n",
    "x.append(twenty_taka)\n",
    "x.append(fifty_taka)\n",
    "x.append(hundred_taka)\n",
    "x.append(five_hundred_taka)\n",
    "x.append(one_thousand_taka)\n",
    "x=np.array(x)"
   ]
  },
  {
   "cell_type": "code",
   "execution_count": null,
   "metadata": {},
   "outputs": [],
   "source": [
    "x[0]"
   ]
  }
 ],
 "metadata": {
  "kernelspec": {
   "display_name": "Python 3",
   "language": "python",
   "name": "python3"
  },
  "language_info": {
   "codemirror_mode": {
    "name": "ipython",
    "version": 3
   },
   "file_extension": ".py",
   "mimetype": "text/x-python",
   "name": "python",
   "nbconvert_exporter": "python",
   "pygments_lexer": "ipython3",
   "version": "3.7.3"
  }
 },
 "nbformat": 4,
 "nbformat_minor": 2
}
